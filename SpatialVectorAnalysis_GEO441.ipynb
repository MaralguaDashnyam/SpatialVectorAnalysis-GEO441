{
  "nbformat": 4,
  "nbformat_minor": 0,
  "metadata": {
    "colab": {
      "provenance": []
    },
    "kernelspec": {
      "name": "python3",
      "display_name": "Python 3"
    },
    "language_info": {
      "name": "python"
    }
  },
  "cells": [
    {
      "cell_type": "markdown",
      "source": [
        "# **Practice spatial analysis for vector data**"
      ],
      "metadata": {
        "id": "C0ymCPR5aSHN"
      }
    },
    {
      "cell_type": "markdown",
      "source": [
        "🚀 Created by Hera Dashnyam\n",
        "\n",
        "01/04/2025"
      ],
      "metadata": {
        "id": "Pt_OREXFPvkr"
      }
    },
    {
      "cell_type": "markdown",
      "source": [
        "## **Overview**\n",
        "\n",
        "- This notebook includes two parts and three maps\n",
        "  - Part 1: Use buffer and overlay analysis to identify potential campgrounds in Hugo, MN\n",
        "  - Part 2: Uses geospatial data to replicate Dr. John Snow's discovery on the root cause of the spread of cholera in London during 1850s, a prime example of geospatial analysis and the onset of the epidemology.\n",
        "\n",
        "    <div>\n",
        "    <img src=\"https://adventuresinmapping.com/wp-content/uploads/2023/12/johnsnowcholeramap.png\" width= 700px />\n",
        "    </div>"
      ],
      "metadata": {
        "id": "6tKmlbnzny_I"
      }
    },
    {
      "cell_type": "markdown",
      "source": [
        "## **Part 1: Identify potential campgrounds in Hugo, MN**"
      ],
      "metadata": {
        "id": "knQezaT0XILw"
      }
    },
    {
      "cell_type": "markdown",
      "source": [
        "- Use the checklist below to make sure our map contains all necessary map content and is formatted correctly\n",
        "\n",
        "  - [x] Contains a title with byline (i.e., by [your name])\n",
        "  - [x] Use a larger and bold font type for the title\n",
        "  - [x] Contains a layer of **lakes** and a layer of **roads**\n",
        "  - [x] Contains a layer of **potential campgrounds on private land**\n",
        "  - [x] Use a light-colored background map\n",
        "  - [x] Contains a map scale\n",
        "  - [x] Contains a legend\n",
        "  - [x] Contains a north arrow\n",
        "  - [x] Uses a balanced layout for all map elements\n",
        "    - [x] Map stays in the center of layout\n",
        "    - [x] Font size of title is appropriate (not too big or too small)\n",
        "    - [x] Legend, map scale bar, and north arrow are placed appropriately to avoid an overlap with the map layers\n",
        "    - [x] Legend, map scale bar, and north arrow has an appropriate size (big enough to read information, small enough to reserve most of space for map layers"
      ],
      "metadata": {
        "id": "-NOVGCtkXOm-"
      }
    },
    {
      "cell_type": "markdown",
      "source": [
        "\n",
        "1.1\n",
        "\n",
        "![1.1](https://drive.google.com/uc?export=view&id=1hFlTOiHfFXrjsajDI8-r9jnug38ihdwA\n",
        ")\n",
        "\n",
        "1.2\n",
        "\n",
        "![1.2](https://drive.google.com/uc?export=view&id=1JF68BiVugvEQ7kVSYdEhgAhUEFilLTXn\n",
        ")\n",
        "\n",
        "1.3\n",
        "\n",
        "![1.3](https://drive.google.com/uc?export=view&id=13myh1Xwi9HXxy0UkqnzEUiL7MB50GGLE\n",
        ")"
      ],
      "metadata": {
        "id": "pEt8eG3wXiio"
      }
    },
    {
      "cell_type": "markdown",
      "source": [
        "## **Part 2: Replicating Dr. John Snow's discovery on the relationship between water pumps and the spread of cholera in Soho, London**"
      ],
      "metadata": {
        "id": "zNWPkAxUXnEt"
      }
    },
    {
      "cell_type": "markdown",
      "source": [
        "### **Map of number of deaths related to cholera in Soho, London**"
      ],
      "metadata": {
        "id": "1_9kgv7nWPi0"
      }
    },
    {
      "cell_type": "markdown",
      "source": [
        "- Use the checklist below to make sure our map contains all necessary map content and is formatted correctly\n",
        "\n",
        "  - [x] Contains a title with byline (i.e., by [your name])\n",
        "  - [x] Use a larger and bold font type for the title\n",
        "  - [x] Contains a layer of **pumps**\n",
        "  - [x] Contains a layer of **100 meter buffer around pump**\n",
        "  - [x] The buffer layer is mapped by the **count of reported deaths related to cholera**\n",
        "  - [x] Contains a map scale\n",
        "  - [x] Contains a legend\n",
        "  - [x] Contains a north arrow\n",
        "  - [x] Uses a balanced layout for all map elements\n",
        "    - [x] Map stays in the center of layout\n",
        "    - [x] Font size of title is appropriate (not too big or too small)\n",
        "    - [x] Legend, map scale bar, and north arrow are placed appropriately to avoid an overlap with the map layers\n",
        "    - [x] Legend, map scale bar, and north arrow has an appropriate size (big enough to read information, small enough to reserve most of space for map layers"
      ],
      "metadata": {
        "id": "s1fIk7zdWZF6"
      }
    },
    {
      "cell_type": "markdown",
      "source": [
        "![cholera deaths](https://drive.google.com/uc?export=view&id=1ZMI_qQgxrCnGlZRcBfjHz74XalWNutJa)"
      ],
      "metadata": {
        "id": "CTzTj_VIWrDj"
      }
    },
    {
      "cell_type": "markdown",
      "source": [
        "### **Hot spots of cholera deaths in Soho, London (1850s)**"
      ],
      "metadata": {
        "id": "Xy1iTFLrp0JH"
      }
    },
    {
      "cell_type": "markdown",
      "source": [
        "- Use the checklist below to make sure our map contains all necessary map content and is formatted correctly\n",
        "\n",
        "  - [ ] Contains a title with byline (i.e., by [your name])\n",
        "  - [ ] Use a larger and bold font type for the title\n",
        "  - [ ] Contains a layer of **pumps**\n",
        "  - [ ] Contains a layer of **hot spots of cholera deaths**\n",
        "  - [ ] Contains a map scale\n",
        "  - [ ] Contains a legend\n",
        "  - [ ] Contains a north arrow\n",
        "  - [ ] Uses a balanced layout for all map elements\n",
        "    - [ ] Map stays in the center of layout\n",
        "    - [ ] Font size of title is appropriate (not too big or too small)\n",
        "    - [ ] Legend, map scale bar, and north arrow are placed appropriately to avoid an overlap with the map layers\n",
        "    - [ ] Legend, map scale bar, and north arrow has an appropriate size (big enough to read information, small enough to reserve most of space for map layers"
      ],
      "metadata": {
        "id": "fjCS886Up_cU"
      }
    },
    {
      "cell_type": "markdown",
      "source": [
        "\n",
        "\n",
        "![cholera hot spot](https://drive.google.com/uc?export=view&id=1IX911t-K9zGOPKMtKrdva8RqV_xPGLoT)"
      ],
      "metadata": {
        "id": "xn1jvijPqI37"
      }
    }
  ]
}